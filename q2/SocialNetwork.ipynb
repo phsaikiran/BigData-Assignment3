{
 "cells": [
  {
   "cell_type": "code",
   "execution_count": null,
   "id": "c58e0283-9392-4f2b-8a64-7b39c0e692d8",
   "metadata": {},
   "outputs": [],
   "source": [
    "from pyspark.sql import SparkSession\n",
    "from graphframes import GraphFrame\n",
    "\n",
    "spark = SparkSession.builder.appName(\"SocialNetworkAnalysis\").getOrCreate()"
   ]
  },
  {
   "cell_type": "code",
   "execution_count": null,
   "id": "c73e0518-daf3-4454-8c7d-c3d07f9aa980",
   "metadata": {},
   "outputs": [],
   "source": [
    "vertices_df = spark.read.option(\"delimiter\", \"\\t\").csv(\"vertices.txt\", header=True, inferSchema=True)\n",
    "edges_df = spark.read.option(\"delimiter\", \"\\t\").csv(\"edges.txt\", header=True, inferSchema=True)"
   ]
  },
  {
   "cell_type": "code",
   "execution_count": null,
   "id": "96081116-1574-4b0e-acd5-219af37ab9e5",
   "metadata": {},
   "outputs": [],
   "source": [
    "vertices_df.head(10)"
   ]
  },
  {
   "cell_type": "code",
   "execution_count": null,
   "id": "87ab2513-b032-44c7-90f1-11855f9ac49b",
   "metadata": {},
   "outputs": [],
   "source": [
    "edges_df.head(10)"
   ]
  },
  {
   "cell_type": "code",
   "execution_count": null,
   "id": "7d826b35-afb3-4381-8b83-77eeebdaa48a",
   "metadata": {},
   "outputs": [],
   "source": [
    "social_graph = GraphFrame(vertices_df, edges_df)\n",
    "social_graph"
   ]
  },
  {
   "cell_type": "code",
   "execution_count": null,
   "id": "17f02df2-e47b-4df8-a7c3-b4464f0cbfe0",
   "metadata": {},
   "outputs": [],
   "source": [
    "sentence = re.sub(r'http\\S+', '', sentence)\n",
    "sentence = sentence.translate(str.maketrans(string.punctuation, ' '*len(string.punctuation)))\n",
    "sentence = re.sub(\"\\n\", \" \", sentence)"
   ]
  },
  {
   "cell_type": "code",
   "execution_count": null,
   "id": "854dc50e-2731-4920-8cc5-c0fc94938fff",
   "metadata": {},
   "outputs": [],
   "source": [
    "sentence"
   ]
  },
  {
   "cell_type": "code",
   "execution_count": null,
   "id": "f29e2763-bfef-4cfe-a5e2-75fabdc3f725",
   "metadata": {},
   "outputs": [],
   "source": [
    "re.sub(r'http\\S+', '', stringliteral)"
   ]
  }
 ],
 "metadata": {
  "kernelspec": {
   "display_name": "Python 3 (ipykernel)",
   "language": "python",
   "name": "python3"
  },
  "language_info": {
   "codemirror_mode": {
    "name": "ipython",
    "version": 3
   },
   "file_extension": ".py",
   "mimetype": "text/x-python",
   "name": "python",
   "nbconvert_exporter": "python",
   "pygments_lexer": "ipython3",
   "version": "3.11.0"
  }
 },
 "nbformat": 4,
 "nbformat_minor": 5
}
