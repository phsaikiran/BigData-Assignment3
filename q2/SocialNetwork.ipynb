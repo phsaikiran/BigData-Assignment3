{
 "cells": [
  {
   "cell_type": "code",
   "execution_count": 21,
   "id": "c58e0283-9392-4f2b-8a64-7b39c0e692d8",
   "metadata": {},
   "outputs": [],
   "source": [
    "from pyspark.sql import SparkSession\n",
    "from graphframes import GraphFrame\n",
    "\n",
    "spark = SparkSession.builder.appName(\"SocialNetworkAnalysis\").getOrCreate()\n",
    "spark.sparkContext.setCheckpointDir('/checkpoints')"
   ]
  },
  {
   "cell_type": "code",
   "execution_count": 12,
   "id": "c73e0518-daf3-4454-8c7d-c3d07f9aa980",
   "metadata": {},
   "outputs": [],
   "source": [
    "edges_df = spark.read.option(\"delimiter\", \",\").csv(\"musae_facebook_edges.csv\", header=True, inferSchema=True)"
   ]
  },
  {
   "cell_type": "code",
   "execution_count": 13,
   "id": "cfa413ba-7cfe-4b78-97fc-e572129612ef",
   "metadata": {},
   "outputs": [
    {
     "data": {
      "text/plain": [
       "[Row(src=0, dst=18427),\n",
       " Row(src=1, dst=21708),\n",
       " Row(src=1, dst=22208),\n",
       " Row(src=1, dst=22171),\n",
       " Row(src=1, dst=6829),\n",
       " Row(src=1, dst=16590),\n",
       " Row(src=1, dst=20135),\n",
       " Row(src=1, dst=8894),\n",
       " Row(src=1, dst=15785),\n",
       " Row(src=1, dst=10281)]"
      ]
     },
     "execution_count": 13,
     "metadata": {},
     "output_type": "execute_result"
    }
   ],
   "source": [
    "edges_df.head(10)"
   ]
  },
  {
   "cell_type": "code",
   "execution_count": 14,
   "id": "36c27428-2d3b-43d0-aeaf-791c13dd6d4f",
   "metadata": {},
   "outputs": [],
   "source": [
    "from_vertices = edges_df.select(\"src\").distinct().withColumnRenamed(\"src\", \"id\")\n",
    "to_vertices = edges_df.select(\"dst\").distinct().withColumnRenamed(\"dst\", \"id\")\n",
    "\n",
    "vertices_df = from_vertices.union(to_vertices).distinct()"
   ]
  },
  {
   "cell_type": "code",
   "execution_count": 15,
   "id": "96081116-1574-4b0e-acd5-219af37ab9e5",
   "metadata": {},
   "outputs": [
    {
     "data": {
      "text/plain": [
       "[Row(id=148),\n",
       " Row(id=463),\n",
       " Row(id=471),\n",
       " Row(id=496),\n",
       " Row(id=18800),\n",
       " Row(id=833),\n",
       " Row(id=5300),\n",
       " Row(id=1088),\n",
       " Row(id=1238),\n",
       " Row(id=1342)]"
      ]
     },
     "execution_count": 15,
     "metadata": {},
     "output_type": "execute_result"
    }
   ],
   "source": [
    "vertices_df.head(10)"
   ]
  },
  {
   "cell_type": "code",
   "execution_count": 16,
   "id": "7d826b35-afb3-4381-8b83-77eeebdaa48a",
   "metadata": {},
   "outputs": [
    {
     "data": {
      "text/plain": [
       "GraphFrame(v:[id: int], e:[src: int, dst: int])"
      ]
     },
     "execution_count": 16,
     "metadata": {},
     "output_type": "execute_result"
    }
   ],
   "source": [
    "social_graph = GraphFrame(vertices_df, edges_df)\n",
    "social_graph"
   ]
  },
  {
   "cell_type": "code",
   "execution_count": 17,
   "id": "db260496-864f-4150-a3c3-ffd8392dc823",
   "metadata": {},
   "outputs": [
    {
     "data": {
      "text/html": [
       "<div>\n",
       "<style scoped>\n",
       "    .dataframe tbody tr th:only-of-type {\n",
       "        vertical-align: middle;\n",
       "    }\n",
       "\n",
       "    .dataframe tbody tr th {\n",
       "        vertical-align: top;\n",
       "    }\n",
       "\n",
       "    .dataframe thead th {\n",
       "        text-align: right;\n",
       "    }\n",
       "</style>\n",
       "<table border=\"1\" class=\"dataframe\">\n",
       "  <thead>\n",
       "    <tr style=\"text-align: right;\">\n",
       "      <th></th>\n",
       "      <th>id</th>\n",
       "      <th>outDegree</th>\n",
       "    </tr>\n",
       "  </thead>\n",
       "  <tbody>\n",
       "    <tr>\n",
       "      <th>0</th>\n",
       "      <td>1387</td>\n",
       "      <td>472</td>\n",
       "    </tr>\n",
       "    <tr>\n",
       "      <th>1</th>\n",
       "      <td>2442</td>\n",
       "      <td>365</td>\n",
       "    </tr>\n",
       "    <tr>\n",
       "      <th>2</th>\n",
       "      <td>701</td>\n",
       "      <td>364</td>\n",
       "    </tr>\n",
       "    <tr>\n",
       "      <th>3</th>\n",
       "      <td>8139</td>\n",
       "      <td>261</td>\n",
       "    </tr>\n",
       "    <tr>\n",
       "      <th>4</th>\n",
       "      <td>5458</td>\n",
       "      <td>247</td>\n",
       "    </tr>\n",
       "  </tbody>\n",
       "</table>\n",
       "</div>"
      ],
      "text/plain": [
       "     id  outDegree\n",
       "0  1387        472\n",
       "1  2442        365\n",
       "2   701        364\n",
       "3  8139        261\n",
       "4  5458        247"
      ]
     },
     "execution_count": 17,
     "metadata": {},
     "output_type": "execute_result"
    }
   ],
   "source": [
    "# a. Find the top 5 nodes with the highest outdegree and the count of outgoing edges\n",
    "out_degree = social_graph.outDegrees\n",
    "top_out_degree_nodes = out_degree.orderBy(\"outDegree\", ascending=False).limit(5)\n",
    "top_out_degree_nodes.toPandas()"
   ]
  },
  {
   "cell_type": "code",
   "execution_count": 18,
   "id": "fc311108-5ee2-46df-be52-58bb0acf12d5",
   "metadata": {},
   "outputs": [
    {
     "data": {
      "text/html": [
       "<div>\n",
       "<style scoped>\n",
       "    .dataframe tbody tr th:only-of-type {\n",
       "        vertical-align: middle;\n",
       "    }\n",
       "\n",
       "    .dataframe tbody tr th {\n",
       "        vertical-align: top;\n",
       "    }\n",
       "\n",
       "    .dataframe thead th {\n",
       "        text-align: right;\n",
       "    }\n",
       "</style>\n",
       "<table border=\"1\" class=\"dataframe\">\n",
       "  <thead>\n",
       "    <tr style=\"text-align: right;\">\n",
       "      <th></th>\n",
       "      <th>id</th>\n",
       "      <th>inDegree</th>\n",
       "    </tr>\n",
       "  </thead>\n",
       "  <tbody>\n",
       "    <tr>\n",
       "      <th>0</th>\n",
       "      <td>21729</td>\n",
       "      <td>643</td>\n",
       "    </tr>\n",
       "    <tr>\n",
       "      <th>1</th>\n",
       "      <td>19743</td>\n",
       "      <td>605</td>\n",
       "    </tr>\n",
       "    <tr>\n",
       "      <th>2</th>\n",
       "      <td>16895</td>\n",
       "      <td>551</td>\n",
       "    </tr>\n",
       "    <tr>\n",
       "      <th>3</th>\n",
       "      <td>14497</td>\n",
       "      <td>430</td>\n",
       "    </tr>\n",
       "    <tr>\n",
       "      <th>4</th>\n",
       "      <td>19347</td>\n",
       "      <td>385</td>\n",
       "    </tr>\n",
       "  </tbody>\n",
       "</table>\n",
       "</div>"
      ],
      "text/plain": [
       "      id  inDegree\n",
       "0  21729       643\n",
       "1  19743       605\n",
       "2  16895       551\n",
       "3  14497       430\n",
       "4  19347       385"
      ]
     },
     "execution_count": 18,
     "metadata": {},
     "output_type": "execute_result"
    }
   ],
   "source": [
    "# b. Find the top 5 nodes with the highest indegree and count of incoming edges\n",
    "in_degree = social_graph.inDegrees\n",
    "top_in_degree_nodes = in_degree.orderBy(\"inDegree\", ascending=False).limit(5)\n",
    "top_in_degree_nodes.toPandas()"
   ]
  },
  {
   "cell_type": "code",
   "execution_count": 19,
   "id": "993b0341-207b-4903-9ebd-c686f781d5e4",
   "metadata": {},
   "outputs": [
    {
     "data": {
      "text/html": [
       "<div>\n",
       "<style scoped>\n",
       "    .dataframe tbody tr th:only-of-type {\n",
       "        vertical-align: middle;\n",
       "    }\n",
       "\n",
       "    .dataframe tbody tr th {\n",
       "        vertical-align: top;\n",
       "    }\n",
       "\n",
       "    .dataframe thead th {\n",
       "        text-align: right;\n",
       "    }\n",
       "</style>\n",
       "<table border=\"1\" class=\"dataframe\">\n",
       "  <thead>\n",
       "    <tr style=\"text-align: right;\">\n",
       "      <th></th>\n",
       "      <th>id</th>\n",
       "      <th>pagerank</th>\n",
       "    </tr>\n",
       "  </thead>\n",
       "  <tbody>\n",
       "    <tr>\n",
       "      <th>0</th>\n",
       "      <td>21729</td>\n",
       "      <td>117.557370</td>\n",
       "    </tr>\n",
       "    <tr>\n",
       "      <th>1</th>\n",
       "      <td>22208</td>\n",
       "      <td>66.337474</td>\n",
       "    </tr>\n",
       "    <tr>\n",
       "      <th>2</th>\n",
       "      <td>21781</td>\n",
       "      <td>55.797611</td>\n",
       "    </tr>\n",
       "    <tr>\n",
       "      <th>3</th>\n",
       "      <td>22440</td>\n",
       "      <td>54.630145</td>\n",
       "    </tr>\n",
       "    <tr>\n",
       "      <th>4</th>\n",
       "      <td>22057</td>\n",
       "      <td>47.474781</td>\n",
       "    </tr>\n",
       "  </tbody>\n",
       "</table>\n",
       "</div>"
      ],
      "text/plain": [
       "      id    pagerank\n",
       "0  21729  117.557370\n",
       "1  22208   66.337474\n",
       "2  21781   55.797611\n",
       "3  22440   54.630145\n",
       "4  22057   47.474781"
      ]
     },
     "execution_count": 19,
     "metadata": {},
     "output_type": "execute_result"
    }
   ],
   "source": [
    "# c. Calculate PageRank for each node and output the top 5 nodes\n",
    "pagerank = social_graph.pageRank(resetProbability=0.15, tol=0.01)\n",
    "top_pagerank_nodes = pagerank.vertices.orderBy(\"pagerank\", ascending=False).limit(5)\n",
    "top_pagerank_nodes.toPandas()"
   ]
  },
  {
   "cell_type": "code",
   "execution_count": 22,
   "id": "dc8d34eb-8496-4120-82e5-1f4f37cb73f3",
   "metadata": {},
   "outputs": [
    {
     "data": {
      "text/html": [
       "<div>\n",
       "<style scoped>\n",
       "    .dataframe tbody tr th:only-of-type {\n",
       "        vertical-align: middle;\n",
       "    }\n",
       "\n",
       "    .dataframe tbody tr th {\n",
       "        vertical-align: top;\n",
       "    }\n",
       "\n",
       "    .dataframe thead th {\n",
       "        text-align: right;\n",
       "    }\n",
       "</style>\n",
       "<table border=\"1\" class=\"dataframe\">\n",
       "  <thead>\n",
       "    <tr style=\"text-align: right;\">\n",
       "      <th></th>\n",
       "      <th>component</th>\n",
       "      <th>count</th>\n",
       "    </tr>\n",
       "  </thead>\n",
       "  <tbody>\n",
       "    <tr>\n",
       "      <th>0</th>\n",
       "      <td>0</td>\n",
       "      <td>22470</td>\n",
       "    </tr>\n",
       "  </tbody>\n",
       "</table>\n",
       "</div>"
      ],
      "text/plain": [
       "   component  count\n",
       "0          0  22470"
      ]
     },
     "execution_count": 22,
     "metadata": {},
     "output_type": "execute_result"
    }
   ],
   "source": [
    "# d. Run the connected components algorithm and find the top 5 components with the largest number of nodes\n",
    "connected_components = social_graph.connectedComponents()\n",
    "top_components = connected_components.groupBy(\"component\").count().orderBy(\"count\", ascending=False).limit(5)\n",
    "top_components.toPandas()"
   ]
  },
  {
   "cell_type": "code",
   "execution_count": 25,
   "id": "5305ce54-4e6c-4ea3-b4b1-38b50c5855ab",
   "metadata": {},
   "outputs": [
    {
     "data": {
      "text/html": [
       "<div>\n",
       "<style scoped>\n",
       "    .dataframe tbody tr th:only-of-type {\n",
       "        vertical-align: middle;\n",
       "    }\n",
       "\n",
       "    .dataframe tbody tr th {\n",
       "        vertical-align: top;\n",
       "    }\n",
       "\n",
       "    .dataframe thead th {\n",
       "        text-align: right;\n",
       "    }\n",
       "</style>\n",
       "<table border=\"1\" class=\"dataframe\">\n",
       "  <thead>\n",
       "    <tr style=\"text-align: right;\">\n",
       "      <th></th>\n",
       "      <th>count</th>\n",
       "      <th>id</th>\n",
       "    </tr>\n",
       "  </thead>\n",
       "  <tbody>\n",
       "    <tr>\n",
       "      <th>0</th>\n",
       "      <td>16219</td>\n",
       "      <td>16895</td>\n",
       "    </tr>\n",
       "    <tr>\n",
       "      <th>1</th>\n",
       "      <td>14050</td>\n",
       "      <td>14497</td>\n",
       "    </tr>\n",
       "    <tr>\n",
       "      <th>2</th>\n",
       "      <td>10199</td>\n",
       "      <td>1387</td>\n",
       "    </tr>\n",
       "    <tr>\n",
       "      <th>3</th>\n",
       "      <td>9754</td>\n",
       "      <td>19743</td>\n",
       "    </tr>\n",
       "    <tr>\n",
       "      <th>4</th>\n",
       "      <td>9254</td>\n",
       "      <td>21729</td>\n",
       "    </tr>\n",
       "  </tbody>\n",
       "</table>\n",
       "</div>"
      ],
      "text/plain": [
       "   count     id\n",
       "0  16219  16895\n",
       "1  14050  14497\n",
       "2  10199   1387\n",
       "3   9754  19743\n",
       "4   9254  21729"
      ]
     },
     "execution_count": 25,
     "metadata": {},
     "output_type": "execute_result"
    }
   ],
   "source": [
    "# e. Run the triangle counts algorithm on each of the vertices and output the top 5 vertices with the largest triangle count\n",
    "triangle_counts = social_graph.triangleCount()\n",
    "top_triangles = triangle_counts.orderBy(\"count\", ascending=False).limit(5)\n",
    "top_triangles.toPandas()"
   ]
  },
  {
   "cell_type": "code",
   "execution_count": null,
   "id": "77eccd34-70f9-4b5a-a751-0313f652b0cd",
   "metadata": {},
   "outputs": [],
   "source": []
  }
 ],
 "metadata": {
  "kernelspec": {
   "display_name": "Python 3 (ipykernel)",
   "language": "python",
   "name": "python3"
  },
  "language_info": {
   "codemirror_mode": {
    "name": "ipython",
    "version": 3
   },
   "file_extension": ".py",
   "mimetype": "text/x-python",
   "name": "python",
   "nbconvert_exporter": "python",
   "pygments_lexer": "ipython3",
   "version": "3.11.0"
  }
 },
 "nbformat": 4,
 "nbformat_minor": 5
}
