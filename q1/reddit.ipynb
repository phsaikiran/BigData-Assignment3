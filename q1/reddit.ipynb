{
 "cells": [
  {
   "cell_type": "code",
   "execution_count": null,
   "id": "3186b139-a2b3-4ed9-880d-9e07da026640",
   "metadata": {
    "ExecuteTime": {
     "end_time": "2023-11-25T05:16:27.303654700Z",
     "start_time": "2023-11-25T05:16:27.049656600Z"
    }
   },
   "outputs": [],
   "source": [
    "import praw\n",
    "from kafka import KafkaProducer\n",
    "import json\n",
    "import time"
   ]
  },
  {
   "cell_type": "code",
   "execution_count": null,
   "id": "4275d532-037d-426f-a452-b0bf587e0dd2",
   "metadata": {
    "ExecuteTime": {
     "end_time": "2023-11-25T05:16:28.009256200Z",
     "start_time": "2023-11-25T05:16:27.985495100Z"
    }
   },
   "outputs": [],
   "source": [
    "reddit = praw.Reddit(\n",
    "    client_id=\"\",\n",
    "    client_secret=\"\",\n",
    "    user_agent=\"my user agent\",\n",
    ")"
   ]
  },
  {
   "cell_type": "code",
   "execution_count": null,
   "id": "9619c4f7-6c28-4965-990e-918da1954750",
   "metadata": {
    "ExecuteTime": {
     "end_time": "2023-11-25T05:16:28.185131500Z",
     "start_time": "2023-11-25T05:16:28.177315500Z"
    }
   },
   "outputs": [],
   "source": [
    "kafka_bootstrap_servers = \"localhost:9092\"\n",
    "kafka_topic = \"topic1\""
   ]
  },
  {
   "cell_type": "code",
   "execution_count": null,
   "id": "235d84bd-27b4-4363-9b03-ee243d539ddd",
   "metadata": {
    "ExecuteTime": {
     "end_time": "2023-11-25T05:16:28.543100300Z",
     "start_time": "2023-11-25T05:16:28.371040600Z"
    }
   },
   "outputs": [],
   "source": [
    "producer = KafkaProducer(\n",
    "    bootstrap_servers=[kafka_bootstrap_servers], \n",
    "    value_serializer=lambda x: json.dumps(x).encode('utf-8')\n",
    ")"
   ]
  },
  {
   "cell_type": "code",
   "execution_count": null,
   "id": "383a62d8-b7e3-410d-8219-e52a827b814d",
   "metadata": {
    "ExecuteTime": {
     "end_time": "2023-11-25T05:16:28.692909100Z",
     "start_time": "2023-11-25T05:16:28.685445600Z"
    }
   },
   "outputs": [],
   "source": [
    "subreddit = reddit.subreddit(\"all\")"
   ]
  },
  {
   "cell_type": "code",
   "execution_count": null,
   "id": "9a1f0a83-4aa7-4176-bb03-04d8f20cbcb3",
   "metadata": {
    "ExecuteTime": {
     "end_time": "2023-11-25T05:53:10.336229800Z",
     "start_time": "2023-11-25T05:16:29.091781500Z"
    }
   },
   "outputs": [],
   "source": [
    "# Start streaming to topic1\n",
    "message_count = 0\n",
    "for comment in subreddit.stream.comments():\n",
    "    message = {\n",
    "        'body': str(comment.body),\n",
    "        'timestamp': int(time.time()) \n",
    "    }\n",
    "    producer.send('topic1', value=message)\n",
    "    message_count += 1\n",
    "    if message_count % 500 == 0:\n",
    "        print(f\"Messages sent: {message_count}\")"
   ]
  },
  {
   "cell_type": "code",
   "execution_count": null,
   "id": "1bf02b8d-e5b8-4fe9-af9b-89a31cd295a1",
   "metadata": {},
   "outputs": [],
   "source": []
  }
 ],
 "metadata": {
  "kernelspec": {
   "display_name": "Python 3 (ipykernel)",
   "language": "python",
   "name": "python3"
  },
  "language_info": {
   "codemirror_mode": {
    "name": "ipython",
    "version": 3
   },
   "file_extension": ".py",
   "mimetype": "text/x-python",
   "name": "python",
   "nbconvert_exporter": "python",
   "pygments_lexer": "ipython3",
   "version": "3.11.0"
  }
 },
 "nbformat": 4,
 "nbformat_minor": 5
}
